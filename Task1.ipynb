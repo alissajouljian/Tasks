{
 "cells": [
  {
   "cell_type": "markdown",
   "id": "d84287cd",
   "metadata": {},
   "source": [
    "# Train a model using the data that classifies whether the web element is product item (is_shop label) and analyze the results. "
   ]
  },
  {
   "cell_type": "code",
   "execution_count": 1,
   "id": "b6ae1960",
   "metadata": {},
   "outputs": [],
   "source": [
    "from sklearn.preprocessing import StandardScaler\n",
    "from imblearn.over_sampling import RandomOverSampler\n",
    "from sklearn.model_selection import train_test_split\n",
    "from sklearn.metrics import  confusion_matrix\n",
    "from sklearn.impute import SimpleImputer\n",
    "from sklearn.ensemble import AdaBoostClassifier\n",
    "import pandas as pd \n",
    "import numpy as np "
   ]
  },
  {
   "cell_type": "code",
   "execution_count": 2,
   "id": "f09ee525",
   "metadata": {},
   "outputs": [],
   "source": [
    "df = pd.read_excel('data-for-task1.xlsx')"
   ]
  },
  {
   "cell_type": "code",
   "execution_count": 3,
   "id": "842c0693",
   "metadata": {},
   "outputs": [],
   "source": [
    "#  below data are not useful for predictions \n",
    "df.drop([\"builder_flags\"] , inplace = True , axis = 1 )\n",
    "df.drop([\"prediction_data\"] , inplace = True , axis = 1 )\n",
    "df.drop([\"content\"] , inplace = True , axis = 1 )\n",
    "df.drop([\"contentAfter\"] , inplace = True , axis = 1 )\n",
    "df.drop([\"contentBefore\"] , inplace = True , axis = 1 )\n",
    "df.drop([\"cssBackgroundImageLink\"] , inplace = True , axis = 1 )\n",
    "df.drop([\"cssHasborderBottomWidth\"] , inplace = True , axis = 1 )\n",
    "df.drop([\"cssHasborderRightWidth\"] , inplace = True , axis = 1 )\n",
    "df.drop([\"builder\"] , inplace = True , axis = 1 )\n",
    "df.drop([\"modified\"] , inplace = True , axis = 1 )\n",
    "df.drop([\"localCharCount\"] , inplace = True , axis = 1 )\n",
    "df.drop([\"id\"] , inplace = True , axis = 1 )\n",
    "df.drop([\"cssHasAnimation\"] , inplace = True , axis = 1 )\n",
    "df.drop([\"cssBackgroundImage\"] , inplace = True , axis = 1 )\n",
    "df.drop([\"allPseudoImageGlobal\"] , inplace = True , axis = 1 )\n",
    "df.drop([\"allPseudoBG\"] , inplace = True , axis = 1 )\n",
    "df.drop([\"allPseudoImageLocal\"] , inplace = True , axis = 1 )"
   ]
  },
  {
   "cell_type": "code",
   "execution_count": 4,
   "id": "681a183a",
   "metadata": {},
   "outputs": [
    {
     "data": {
      "text/plain": [
       "1    1114\n",
       "0     886\n",
       "Name: is_shop, dtype: int64"
      ]
     },
     "execution_count": 4,
     "metadata": {},
     "output_type": "execute_result"
    }
   ],
   "source": [
    "#  data  have NAN writtern as missing_value so I change it to Nan for later filling it \n",
    "df = df.replace('missing_value', np.nan)\n",
    "#  the data is littele inbalanced so let's correct it\n",
    "df['is_shop'].value_counts()"
   ]
  },
  {
   "cell_type": "markdown",
   "id": "3f4e2161",
   "metadata": {},
   "source": [
    "## Spliting the data "
   ]
  },
  {
   "cell_type": "code",
   "execution_count": 5,
   "id": "3bd0224b",
   "metadata": {},
   "outputs": [],
   "source": [
    "# Separate the target and dataset\n",
    "X = df.drop('is_shop', axis=1)\n",
    "y = df['is_shop']\n",
    "\n",
    "# Split the data into train and test\n",
    "xtrain, xtest, ytrain, ytest = train_test_split(X, y, test_size=0.2, random_state=1)\n"
   ]
  },
  {
   "cell_type": "markdown",
   "id": "903a2787",
   "metadata": {},
   "source": [
    "## doing  SimpleImputer"
   ]
  },
  {
   "cell_type": "code",
   "execution_count": 6,
   "id": "9792a04f",
   "metadata": {},
   "outputs": [],
   "source": [
    "# Seperate non-numeric and numeric columns \n",
    "numeric_columns = xtrain.select_dtypes(include=[np.number]).columns\n",
    "non_numeric_columns = xtrain.select_dtypes(exclude=[np.number]).columns\n",
    "\n",
    "#  SimpleImputer with the strategy 'mean' for numeric columns\n",
    "imputer_numeric = SimpleImputer(strategy='mean')\n",
    "xtrain[numeric_columns] = imputer_numeric.fit_transform(xtrain[numeric_columns])\n",
    "xtest[numeric_columns] = imputer_numeric.transform(xtest[numeric_columns])\n",
    "\n",
    "# For non-numeric do SimpleImputer with the most_frequent strategy\n",
    "imputer_non_numeric = SimpleImputer(strategy='most_frequent')\n",
    "xtrain[non_numeric_columns] = imputer_non_numeric.fit_transform(xtrain[non_numeric_columns])\n",
    "xtest[non_numeric_columns] = imputer_non_numeric.transform(xtest[non_numeric_columns])\n"
   ]
  },
  {
   "cell_type": "markdown",
   "id": "7413bef9",
   "metadata": {},
   "source": [
    "## doing  OneHotEncoder()"
   ]
  },
  {
   "cell_type": "code",
   "execution_count": 7,
   "id": "4d6a61c7",
   "metadata": {},
   "outputs": [],
   "source": [
    "# Perform one-hot encoding on non-numeric columns for both xtrain and xtest\n",
    "combined_data = pd.concat([xtrain, xtest], axis=0)\n",
    "combined_data = pd.get_dummies(combined_data)\n",
    "xtrain = combined_data[:len(xtrain)]\n",
    "xtest = combined_data[len(xtrain):]\n"
   ]
  },
  {
   "cell_type": "markdown",
   "id": "a9b617af",
   "metadata": {},
   "source": [
    "## do StandardScaler()"
   ]
  },
  {
   "cell_type": "code",
   "execution_count": 8,
   "id": "8f79412c",
   "metadata": {},
   "outputs": [],
   "source": [
    "# perform  StandardScaler fit and transofrm \n",
    "scaler = StandardScaler()\n",
    "xtrain = scaler.fit_transform(xtrain)\n",
    "xtest = scaler.transform(xtest)\n",
    "\n"
   ]
  },
  {
   "cell_type": "code",
   "execution_count": 9,
   "id": "1efd7f5a",
   "metadata": {},
   "outputs": [],
   "source": [
    "def print_metrics(tp, fp, tn, fn):\n",
    "    Accuracy =  (tp + tn) / (tp + tn + fn + fp)\n",
    "    Precision= tp / (tp + fp)\n",
    "    Recall= tp / (tp + fn)\n",
    "    Specificity =  tn / (tn + fp)\n",
    "    F1_Score= (tp)/(tp+(fp+fn)/2)\n",
    "    return Accuracy,  Precision , Recall , Specificity , F1_Score"
   ]
  },
  {
   "cell_type": "markdown",
   "id": "99b21c3c",
   "metadata": {},
   "source": [
    "## If the model incorrectly identifies a shop as a non-shop, it could result in missed business opportunities or losses that is why I gave more importance to Recall. "
   ]
  },
  {
   "cell_type": "markdown",
   "id": "5d6b87b7",
   "metadata": {},
   "source": [
    "### after trying many different algorithms AdaBoostClassifier() gave the best result above all"
   ]
  },
  {
   "cell_type": "code",
   "execution_count": 10,
   "id": "abe1949e",
   "metadata": {},
   "outputs": [
    {
     "name": "stdout",
     "output_type": "stream",
     "text": [
      "Accuracy: 0.98 \n",
      "Precision : 1.0 \n",
      "Recall: 0.963302752293578 \n",
      "Specificity: 1.0 \n",
      "F1_Score : 0.9813084112149533\n"
     ]
    }
   ],
   "source": [
    "adaBoost = AdaBoostClassifier()\n",
    "\n",
    "adaBoost.fit(xtrain, ytrain)\n",
    "y_pred = adaBoost.predict(xtest)\n",
    "adaBoost.score(xtest, ytest)\n",
    "\n",
    "tn, fp, fn, tp = confusion_matrix(ytest, y_pred).ravel()\n",
    "Accuracy,  Precision , Recall , Specificity , F1_Score = print_metrics(tp, fp, tn, fn)\n",
    "print(f\"Accuracy: {Accuracy} \\nPrecision : {Precision} \\nRecall: {Recall} \\nSpecificity: {Specificity} \\nF1_Score : {F1_Score}\")\n"
   ]
  },
  {
   "cell_type": "code",
   "execution_count": null,
   "id": "bb299560",
   "metadata": {},
   "outputs": [],
   "source": []
  }
 ],
 "metadata": {
  "kernelspec": {
   "display_name": "Python 3 (ipykernel)",
   "language": "python",
   "name": "python3"
  },
  "language_info": {
   "codemirror_mode": {
    "name": "ipython",
    "version": 3
   },
   "file_extension": ".py",
   "mimetype": "text/x-python",
   "name": "python",
   "nbconvert_exporter": "python",
   "pygments_lexer": "ipython3",
   "version": "3.11.3"
  }
 },
 "nbformat": 4,
 "nbformat_minor": 5
}
