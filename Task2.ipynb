{
 "cells": [
  {
   "cell_type": "markdown",
   "id": "f803206a",
   "metadata": {},
   "source": [
    "# Write a script that extracts the color palette from the screenshot of the given url.\n"
   ]
  },
  {
   "cell_type": "code",
   "execution_count": 95,
   "id": "598f5eb1",
   "metadata": {},
   "outputs": [
    {
     "name": "stdout",
     "output_type": "stream",
     "text": [
      "Screenshot saved as 'image.png'\n"
     ]
    }
   ],
   "source": [
    "from selenium import webdriver\n",
    "from PIL import Image\n",
    "import matplotlib.pyplot as plt\n",
    "import argparse\n",
    "from collections import Counter\n",
    "\n",
    "\n",
    "url = \"https://cff2.earth.com/uploads/2017/12/18095245/10-of-the-world’s-most-colorful-animals-850x500.jpg\" \n",
    "output_file = \"image.png\"\n",
    "\n",
    "\n",
    "# Configure the browser driver (use Chrome in this example)\n",
    "options = webdriver.ChromeOptions()\n",
    "options.add_argument('--headless')  # Run the browser in headless mode (no GUI)\n",
    "driver = webdriver.Chrome(options=options)\n",
    "\n",
    "try:\n",
    "# Open the URL in the browser\n",
    "    driver.get(url)\n",
    "    driver.implicitly_wait(10)\n",
    "\n",
    "# do a screenshot and save it to the \"image.png\" output file\n",
    "    driver.save_screenshot(output_file)\n",
    "    print(f\"Screenshot saved as '{output_file}'\")\n",
    "except Exception as e:\n",
    "       print(\"An error happened:\", e)\n",
    "finally:\n",
    "# Close the browser\n",
    "    driver.quit()"
   ]
  },
  {
   "cell_type": "code",
   "execution_count": 98,
   "id": "a23c8bdc",
   "metadata": {},
   "outputs": [
    {
     "data": {
      "image/png": "[encoded data removed]",
      "text/plain": [
       "<Figure size 800x200 with 100 Axes>"
      ]
     },
     "metadata": {},
     "output_type": "display_data"
    }
   ],
   "source": [
    "# image path and number of colors we want\n",
    "\n",
    "image_path = '/Users/alissa/Desktop/task/image.png'\n",
    "num_colors = 100\n",
    "\n",
    "\n",
    "# Open the image\n",
    "try:\n",
    "    image = Image.open(image_path)\n",
    "except FileNotFoundError:\n",
    "    print(\"Error: The specified file was not found.\")\n",
    "    \n",
    "\n",
    "# Convert the image to RGB mode (in case it's RGBA or another format)\n",
    "mage = image.convert('RGB')\n",
    "\n",
    "# Resize the image for faster processing (optional, can be removed for more accuracy)\n",
    "image.thumbnail((280, 280))\n",
    "\n",
    "# Flatten the image to a set of RGB tuples\n",
    "pixels =  set(image.getdata())\n",
    "    \n",
    "# Count the occurrences of each color\n",
    "color_count = Counter(pixels)\n",
    "\n",
    "# Sort the colors based on their occurrences (from most to least frequent colors )\n",
    "sorted_colors = sorted(color_count, key=color_count.get, reverse=True)\n",
    "\n",
    "# Get the top 'num_colors' most frequent colors\n",
    "top_colors = sorted_colors[:num_colors]\n",
    "\n",
    "# Display the extracted color palette\n",
    "plt.figure(figsize=(8, 2))\n",
    "for i, color in enumerate(top_colors):\n",
    "    plt.subplot(1, num_colors, i + 1)\n",
    "    plt.imshow([[color]], extent=[0, 1, 0, 1], aspect='auto')\n",
    "    plt.axis('off')\n",
    "plt.show()"
   ]
  }
 ],
 "metadata": {
  "kernelspec": {
   "display_name": "Python 3 (ipykernel)",
   "language": "python",
   "name": "python3"
  },
  "language_info": {
   "codemirror_mode": {
    "name": "ipython",
    "version": 3
   },
   "file_extension": ".py",
   "mimetype": "text/x-python",
   "name": "python",
   "nbconvert_exporter": "python",
   "pygments_lexer": "ipython3",
   "version": "3.11.3"
  }
 },
 "nbformat": 4,
 "nbformat_minor": 5
}
