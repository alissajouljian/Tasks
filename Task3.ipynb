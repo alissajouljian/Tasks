{
 "cells": [
  {
   "cell_type": "markdown",
   "id": "b8938049",
   "metadata": {},
   "source": [
    "# Write a simple script that generates the main image of the company's website given the brief description of the company.\n"
   ]
  },
  {
   "cell_type": "code",
   "execution_count": 150,
   "id": "39571030",
   "metadata": {},
   "outputs": [
    {
     "name": "stderr",
     "output_type": "stream",
     "text": [
      "No model was supplied, defaulted to dbmdz/bert-large-cased-finetuned-conll03-english and revision f2482bf (https://huggingface.co/dbmdz/bert-large-cased-finetuned-conll03-english).\n",
      "Using a pipeline without specifying a model name and revision in production is not recommended.\n",
      "Some layers from the model checkpoint at dbmdz/bert-large-cased-finetuned-conll03-english were not used when initializing TFBertForTokenClassification: ['dropout_147']\n",
      "- This IS expected if you are initializing TFBertForTokenClassification from the checkpoint of a model trained on another task or with another architecture (e.g. initializing a BertForSequenceClassification model from a BertForPreTraining model).\n",
      "- This IS NOT expected if you are initializing TFBertForTokenClassification from the checkpoint of a model that you expect to be exactly identical (initializing a BertForSequenceClassification model from a BertForSequenceClassification model).\n",
      "All the layers of TFBertForTokenClassification were initialized from the model checkpoint at dbmdz/bert-large-cased-finetuned-conll03-english.\n",
      "If your task is similar to the task the model of the checkpoint was trained on, you can already use TFBertForTokenClassification for predictions without further training.\n"
     ]
    },
    {
     "name": "stdout",
     "output_type": "stream",
     "text": [
      "1/1 [==============================] - 0s 264ms/step\n",
      "Image saved as generated_image.png\n"
     ]
    }
   ],
   "source": [
    "import tensorflow as tf\n",
    "from tensorflow.keras import layers, models\n",
    "from transformers import pipeline\n",
    "from PIL import Image\n",
    "from IPython.display import display\n",
    "import os\n",
    "import numpy as np\n",
    "\n",
    "# image Generation based on the company description\n",
    "\n",
    "def analyze_description(description):\n",
    "    nlp = pipeline(\"ner\")  \n",
    "    entities = nlp(description)\n",
    "    \n",
    "    # Extract keywords from entities\n",
    "    keywords = [entity[\"word\"] for entity in entities if entity[\"label\"] in [\"ORG\", \"PRODUCT\", \"PERSON\"]]\n",
    "    # Find theme based on keywords \n",
    "    primary_theme = determine_primary_theme(keywords)\n",
    "    \n",
    "    return primary_theme\n",
    "\n",
    "\n",
    "def generate_image(primary_theme):\n",
    "    latent_dim = 100\n",
    "    # Load the pre-trained VAE model\n",
    "    vae = build_vae(input_shape=(28, 28, 1), latent_dim=100)\n",
    "    vae.load_weights(\"vae_weights.h5\")\n",
    "\n",
    "\n",
    "    np.random.seed(hash(primary_theme) % 2**32)  \n",
    "    noise = np.random.normal(0, 1, size=(1, 28, 28, 1))\n",
    "\n",
    "    generated_image = vae.predict(noise)\n",
    "\n",
    "    # Reshape the generated image to (28x28 for MNIST)\n",
    "    generated_image = generated_image.reshape((28, 28))\n",
    "\n",
    "    return generated_image\n",
    "\n",
    "\n",
    "def display_and_save_image(generated_image):\n",
    "    # Convert the floating-point  to (uint8) format\n",
    "    generated_image = (generated_image * 255).astype(np.uint8)\n",
    "\n",
    "    # Convert to grayscale\n",
    "    pil_image = Image.fromarray(generated_image, mode='L')\n",
    "    # Display \n",
    "#     display(pil_image)\n",
    "\n",
    "    # Save the image to a file\n",
    "    save_path = \"generated_image.png\"\n",
    "    pil_image.save(save_path)\n",
    "    print(f\"Image saved as {save_path}\")\n",
    "\n",
    "# Example usage:\n",
    "company_description = \"A modern fashion company producing different kinds of clothing for men and women.\"\n",
    "primary_theme = analyze_description(company_description)\n",
    "generated_image = generate_image(primary_theme)\n",
    "display_and_save_image(generated_image)"
   ]
  },
  {
   "cell_type": "code",
   "execution_count": null,
   "id": "8a01c250",
   "metadata": {},
   "outputs": [],
   "source": []
  },
  {
   "cell_type": "code",
   "execution_count": null,
   "id": "9b8102c9",
   "metadata": {},
   "outputs": [],
   "source": []
  },
  {
   "cell_type": "code",
   "execution_count": null,
   "id": "d682667a",
   "metadata": {},
   "outputs": [],
   "source": []
  },
  {
   "cell_type": "code",
   "execution_count": null,
   "id": "0ce85142",
   "metadata": {},
   "outputs": [],
   "source": []
  }
 ],
 "metadata": {
  "kernelspec": {
   "display_name": "Python 3 (ipykernel)",
   "language": "python",
   "name": "python3"
  },
  "language_info": {
   "codemirror_mode": {
    "name": "ipython",
    "version": 3
   },
   "file_extension": ".py",
   "mimetype": "text/x-python",
   "name": "python",
   "nbconvert_exporter": "python",
   "pygments_lexer": "ipython3",
   "version": "3.11.3"
  }
 },
 "nbformat": 4,
 "nbformat_minor": 5
}
